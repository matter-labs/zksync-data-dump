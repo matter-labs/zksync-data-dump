{
 "cells": [
  {
   "cell_type": "markdown",
   "id": "2eda124c-a9a9-4c80-ae32-526a0da82028",
   "metadata": {},
   "source": [
    "# ZKsync data exploration - Swaps\n",
    "\n",
    "#### [Maria Silva](https://github.com/misilva73), July 2024\n",
    "\n",
    "This notebook looks into swap events for ZKsync over almost 1 year. We use one main source of data - transaction logs. We also load block data to extract timestamps. This notebook should be an example of interacting and processing our [ZKsync public datasets](https://data.zksync.dev).\n",
    "\n",
    "## Import packages"
   ]
  },
  {
   "cell_type": "code",
   "execution_count": 1,
   "id": "e45e32a3-beab-41d1-8929-a82ae0de862d",
   "metadata": {},
   "outputs": [],
   "source": [
    "import os\n",
    "import time\n",
    "import pandas as pd\n",
    "import polars as pl\n",
    "from datetime import datetime\n",
    "import plotly.express as px\n",
    "import plotly.graph_objects as go"
   ]
  },
  {
   "cell_type": "code",
   "execution_count": 2,
   "id": "caf56bec-adb6-4db2-87ff-33bfe8f97a08",
   "metadata": {},
   "outputs": [],
   "source": [
    "pd.set_option('display.max_colwidth', 100)"
   ]
  },
  {
   "cell_type": "code",
   "execution_count": 3,
   "id": "ad4c53d0-be8f-4d2a-b414-3376b3acc4ff",
   "metadata": {},
   "outputs": [],
   "source": [
    "import sys\n",
    "code_dir = os.path.realpath(os.path.join(os.getcwd(), \"..\", \"src\"))\n",
    "\n",
    "sys.path.append(code_dir)"
   ]
  },
  {
   "cell_type": "markdown",
   "id": "eff87d23-16a5-402e-afc7-64e5f9dcdd13",
   "metadata": {},
   "source": [
    "Note that these are support functions defined in the `src` folder:"
   ]
  },
  {
   "cell_type": "code",
   "execution_count": 4,
   "id": "fe2e029c-5736-480b-a06a-c06b92e0055e",
   "metadata": {},
   "outputs": [],
   "source": [
    "from plot_utils import get_plotly_layout, colors, update_plotly_layout_in_place\n",
    "from utils import events_dict\n",
    "\n",
    "width, height = 800, 450"
   ]
  },
  {
   "cell_type": "markdown",
   "id": "704171ff-8469-491f-9e6d-b6647073c391",
   "metadata": {},
   "source": [
    "Sometimes, plotly takes some time to load Mathjax library, which messes with the pdf saves. This next cell is only here to save a garbage plot and guarantee that, for the actual final plots, the library is already loaded."
   ]
  },
  {
   "cell_type": "code",
   "execution_count": 5,
   "id": "1d562455-335d-499b-b53c-76dba8fee720",
   "metadata": {},
   "outputs": [],
   "source": [
    "fig=px.scatter(x=[0, 1, 2, 3, 4], y=[0, 1, 4, 9, 16])\n",
    "fig.write_image(\"some_figure.pdf\", format=\"pdf\")\n",
    "time.sleep(2)\n",
    "os.remove(\"some_figure.pdf\")"
   ]
  },
  {
   "cell_type": "markdown",
   "id": "f2d2bb7e-7a0e-4c69-ad81-fcd94633c0ae",
   "metadata": {},
   "source": [
    "##  Load Polars DataFrames"
   ]
  },
  {
   "cell_type": "code",
   "execution_count": 6,
   "id": "ec354acb-2ad8-4d43-9781-903a5494ef27",
   "metadata": {},
   "outputs": [],
   "source": [
    "# Set directory paths\n",
    "data_dir = os.path.abspath(os.path.join(os.getcwd(), \"..\", \"data\"))\n",
    "plots_dir = os.path.abspath(os.path.join(os.getcwd(), \"..\", \"plots\", \"swaps_example\"))\n",
    "\n",
    "# Set block limits\n",
    "block_start = 56_1367 # starting on April 1st to ignore weird blocks during era launch\n",
    "block_end = 29_710_983"
   ]
  },
  {
   "cell_type": "code",
   "execution_count": 7,
   "id": "785a920f-4a9e-4f71-8ad7-a3abe741cdf4",
   "metadata": {},
   "outputs": [
    {
     "data": {
      "text/plain": [
       "OrderedDict([('hash', String),\n",
       "             ('parentHash', String),\n",
       "             ('sha3Uncles', String),\n",
       "             ('miner', String),\n",
       "             ('stateRoot', String),\n",
       "             ('transactionsRoot', String),\n",
       "             ('receiptsRoot', String),\n",
       "             ('number', Int64),\n",
       "             ('l1BatchNumber', String),\n",
       "             ('gasUsed', Int64),\n",
       "             ('gasLimit', Int64),\n",
       "             ('baseFeePerGas', Int64),\n",
       "             ('extraData', String),\n",
       "             ('logsBloom', String),\n",
       "             ('timestamp', Datetime(time_unit='us', time_zone=None)),\n",
       "             ('l1BatchTimestamp', String),\n",
       "             ('difficulty', Int64),\n",
       "             ('totalDifficulty', Int64),\n",
       "             ('sealFields', List(Null)),\n",
       "             ('uncles', List(Null)),\n",
       "             ('size', Int64),\n",
       "             ('mixHash', String),\n",
       "             ('nonce', String),\n",
       "             ('day', Date)])"
      ]
     },
     "execution_count": 7,
     "metadata": {},
     "output_type": "execute_result"
    }
   ],
   "source": [
    "# Load blocks data\n",
    "blocks_path = os.path.join(data_dir, \"blocks\", \"blocks_*.parquet\")\n",
    "blocks_lazy_df = (\n",
    "    pl.scan_parquet(blocks_path)\n",
    "    .filter(pl.col(\"number\").is_between(block_start, block_end))\n",
    "    .with_columns(pl.from_epoch(\"timestamp\", time_unit=\"s\"))\n",
    "    .with_columns(pl.col(\"timestamp\").cast(pl.Date).alias(\"day\"))\n",
    "    .sort(\"timestamp\")\n",
    ")\n",
    "blocks_lazy_df.schema"
   ]
  },
  {
   "cell_type": "code",
   "execution_count": 8,
   "id": "e43215f1-dbfe-4500-9a84-59fb3f74a192",
   "metadata": {},
   "outputs": [
    {
     "data": {
      "text/plain": [
       "OrderedDict([('address', String),\n",
       "             ('blockHash', String),\n",
       "             ('blockNumber', Int64),\n",
       "             ('data', String),\n",
       "             ('l1BatchNumber', String),\n",
       "             ('logIndex', Int64),\n",
       "             ('logType', Null),\n",
       "             ('removed', Boolean),\n",
       "             ('transactionHash', String),\n",
       "             ('transactionIndex', Int64),\n",
       "             ('transactionLogIndex', String),\n",
       "             ('topics_0', String),\n",
       "             ('topics_1', String),\n",
       "             ('topics_2', String),\n",
       "             ('topics_3', String),\n",
       "             ('timestamp', Datetime(time_unit='us', time_zone=None)),\n",
       "             ('day', Date)])"
      ]
     },
     "execution_count": 8,
     "metadata": {},
     "output_type": "execute_result"
    }
   ],
   "source": [
    "# Create temp df to join timestamps and date\n",
    "temp_blocks_df = (\n",
    "    blocks_lazy_df.select(pl.col(\"number\"), pl.col(\"timestamp\"), pl.col(\"day\"))\n",
    ")\n",
    "\n",
    "# Load logs data\n",
    "logs_path = os.path.join(data_dir, \"logs\", \"logs_*.parquet\")\n",
    "logs_lazy_df = (\n",
    "    pl.scan_parquet(logs_path)\n",
    "    .filter(pl.col(\"blockNumber\").is_between(block_start, block_end))\n",
    "    .join(temp_blocks_df, left_on=\"blockNumber\", right_on=\"number\")\n",
    ")\n",
    "logs_lazy_df.schema"
   ]
  },
  {
   "cell_type": "markdown",
   "id": "0ada5cd9-df1b-418b-a6fe-63abab738cbc",
   "metadata": {},
   "source": [
    "## Process dataset of swap events\n",
    "\n",
    "Swap events can be filtered by looking at the right event hash (defined below) and have the following topics and data:\n",
    "\n",
    "![](../plots/swaps_example/SwapEvent.png)"
   ]
  },
  {
   "cell_type": "markdown",
   "id": "cb131555-7adc-49d6-a0bf-1c8ca7a7c8ba",
   "metadata": {},
   "source": [
    "We can process the topics and the data to extract all relevant fields. Note that we are converting the amounts from the data field into strings because they are 256-bit integers and Polars does not have integers larger than 64-bit."
   ]
  },
  {
   "cell_type": "code",
   "execution_count": 9,
   "id": "4478385a-75f1-4695-b7a4-23e5b877c24c",
   "metadata": {},
   "outputs": [
    {
     "data": {
      "text/plain": [
       "OrderedDict([('timestamp', Datetime(time_unit='us', time_zone=None)),\n",
       "             ('day', Date),\n",
       "             ('blockNumber', Int64),\n",
       "             ('transactionHash', String),\n",
       "             ('logIndex', Int64),\n",
       "             ('contract_address', String),\n",
       "             ('sender', String),\n",
       "             ('receiver', String),\n",
       "             ('amount0_in', String),\n",
       "             ('amount1_in', String),\n",
       "             ('amount0_out', String),\n",
       "             ('amount1_out', String)])"
      ]
     },
     "execution_count": 9,
     "metadata": {},
     "output_type": "execute_result"
    }
   ],
   "source": [
    "swap_event_hash = \"0xd78ad95fa46c994b6551d0da85fc275fe613ce37657fb8d5e3d130840159d822\"\n",
    "\n",
    "swap_lazy_df = (\n",
    "    logs_lazy_df\n",
    "    .filter(pl.col('topics_0').str.to_lowercase().eq(swap_event_hash))\n",
    "    .select([\n",
    "        pl.col('timestamp'),\n",
    "        pl.col('day'),\n",
    "        pl.col('blockNumber'),\n",
    "        pl.col('transactionHash'),\n",
    "        pl.col('logIndex'),\n",
    "        pl.col('address').str.to_lowercase().alias('contract_address'),\n",
    "        pl.format(\"0x{}\", pl.col('topics_1').str.slice(-40)).alias('sender'),\n",
    "        pl.format(\"0x{}\", pl.col('topics_2').str.slice(-40)).alias('receiver'),\n",
    "        pl.col('data').str.slice(2, 64).map_elements(lambda x: str(int(x, 16)), return_dtype=pl.String).alias('amount0_in'),\n",
    "        pl.col('data').str.slice(2+64, 64).map_elements(lambda x: str(int(x, 16)), return_dtype=pl.String).alias('amount1_in'),\n",
    "        pl.col('data').str.slice(2+2*64, 64).map_elements(lambda x: str(int(x, 16)), return_dtype=pl.String).alias('amount0_out'),\n",
    "        pl.col('data').str.slice(2+3*64, 64).map_elements(lambda x: str(int(x, 16)), return_dtype=pl.String).alias('amount1_out'),\n",
    "    ])\n",
    ")\n",
    "\n",
    "swap_lazy_df.schema"
   ]
  },
  {
   "cell_type": "code",
   "execution_count": 10,
   "id": "6955081e-a467-4c77-afce-ddf958dbf9e0",
   "metadata": {},
   "outputs": [
    {
     "data": {
      "text/html": [
       "<div>\n",
       "<style scoped>\n",
       "    .dataframe tbody tr th:only-of-type {\n",
       "        vertical-align: middle;\n",
       "    }\n",
       "\n",
       "    .dataframe tbody tr th {\n",
       "        vertical-align: top;\n",
       "    }\n",
       "\n",
       "    .dataframe thead th {\n",
       "        text-align: right;\n",
       "    }\n",
       "</style>\n",
       "<table border=\"1\" class=\"dataframe\">\n",
       "  <thead>\n",
       "    <tr style=\"text-align: right;\">\n",
       "      <th></th>\n",
       "      <th>timestamp</th>\n",
       "      <th>day</th>\n",
       "      <th>blockNumber</th>\n",
       "      <th>transactionHash</th>\n",
       "      <th>logIndex</th>\n",
       "      <th>contract_address</th>\n",
       "      <th>sender</th>\n",
       "      <th>receiver</th>\n",
       "      <th>amount0_in</th>\n",
       "      <th>amount1_in</th>\n",
       "      <th>amount0_out</th>\n",
       "      <th>amount1_out</th>\n",
       "    </tr>\n",
       "  </thead>\n",
       "  <tbody>\n",
       "    <tr>\n",
       "      <th>0</th>\n",
       "      <td>2023-07-31 06:11:24</td>\n",
       "      <td>2023-07-31</td>\n",
       "      <td>10000000</td>\n",
       "      <td>0xc9eca17d58773cbc98de725fbf4998fa8aa852f02f2712e97d0126bb8190778b</td>\n",
       "      <td>20</td>\n",
       "      <td>0xd0ce094412898760c2a5e37abec39b0e785b45ae</td>\n",
       "      <td>0xbe7d1fd1f6748bbdefc4fbacafbb11c6fc506d1d</td>\n",
       "      <td>0xd575491bd9293b6d49a87f3d0b9ce7cd75719039</td>\n",
       "      <td>0</td>\n",
       "      <td>5456000000000000</td>\n",
       "      <td>10149673</td>\n",
       "      <td>0</td>\n",
       "    </tr>\n",
       "    <tr>\n",
       "      <th>1</th>\n",
       "      <td>2023-07-31 06:11:24</td>\n",
       "      <td>2023-07-31</td>\n",
       "      <td>10000000</td>\n",
       "      <td>0x7757cea9efe561077ed9ae0f3015178ba0a1cbc0ab7bc25291e074e4885ea232</td>\n",
       "      <td>42</td>\n",
       "      <td>0x7642e38867860d4512fcce1116e2fb539c5cdd21</td>\n",
       "      <td>0xc02502cfe2ef70581de8b90c5de9db5c38709d6c</td>\n",
       "      <td>0xa269031037b4d5fa3f771c401d19e57def6cb491</td>\n",
       "      <td>0</td>\n",
       "      <td>7639000000000000</td>\n",
       "      <td>14264810</td>\n",
       "      <td>0</td>\n",
       "    </tr>\n",
       "    <tr>\n",
       "      <th>2</th>\n",
       "      <td>2023-07-31 06:11:24</td>\n",
       "      <td>2023-07-31</td>\n",
       "      <td>10000000</td>\n",
       "      <td>0xb879308228257d4afa241522e5ea9794cd1e333871f75548759707459231ae23</td>\n",
       "      <td>68</td>\n",
       "      <td>0x80115c708e12edd42e504c1cd52aea96c547c05c</td>\n",
       "      <td>0x2da10a1e27bf85cedd8ffb1abbe97e53391c0295</td>\n",
       "      <td>0xd6723f9ed079abc688e9286cd1df3ffaa79dcd46</td>\n",
       "      <td>0</td>\n",
       "      <td>14410000000000</td>\n",
       "      <td>26843</td>\n",
       "      <td>0</td>\n",
       "    </tr>\n",
       "    <tr>\n",
       "      <th>3</th>\n",
       "      <td>2023-07-31 06:11:24</td>\n",
       "      <td>2023-07-31</td>\n",
       "      <td>10000000</td>\n",
       "      <td>0xb879308228257d4afa241522e5ea9794cd1e333871f75548759707459231ae23</td>\n",
       "      <td>70</td>\n",
       "      <td>0xd6723f9ed079abc688e9286cd1df3ffaa79dcd46</td>\n",
       "      <td>0x2da10a1e27bf85cedd8ffb1abbe97e53391c0295</td>\n",
       "      <td>0x6f7d4bceedc38c57f37cd99c25738869cb392f0e</td>\n",
       "      <td>26843</td>\n",
       "      <td>0</td>\n",
       "      <td>0</td>\n",
       "      <td>142491984803162001</td>\n",
       "    </tr>\n",
       "    <tr>\n",
       "      <th>4</th>\n",
       "      <td>2023-07-31 06:11:24</td>\n",
       "      <td>2023-07-31</td>\n",
       "      <td>10000000</td>\n",
       "      <td>0x038d0ec5dd8b82398ff493b5577d6a386af4d1949b62a259b9fe2e23826fb60c</td>\n",
       "      <td>131</td>\n",
       "      <td>0x4b747b1f9dbae8c55b007817553b49acb360812f</td>\n",
       "      <td>0xbe7d1fd1f6748bbdefc4fbacafbb11c6fc506d1d</td>\n",
       "      <td>0x94f7873fed9f891ded6c586f85f4e4338e8d5366</td>\n",
       "      <td>0</td>\n",
       "      <td>98370434186366868580</td>\n",
       "      <td>10543618</td>\n",
       "      <td>0</td>\n",
       "    </tr>\n",
       "  </tbody>\n",
       "</table>\n",
       "</div>"
      ],
      "text/plain": [
       "            timestamp        day  blockNumber  \\\n",
       "0 2023-07-31 06:11:24 2023-07-31     10000000   \n",
       "1 2023-07-31 06:11:24 2023-07-31     10000000   \n",
       "2 2023-07-31 06:11:24 2023-07-31     10000000   \n",
       "3 2023-07-31 06:11:24 2023-07-31     10000000   \n",
       "4 2023-07-31 06:11:24 2023-07-31     10000000   \n",
       "\n",
       "                                                      transactionHash  \\\n",
       "0  0xc9eca17d58773cbc98de725fbf4998fa8aa852f02f2712e97d0126bb8190778b   \n",
       "1  0x7757cea9efe561077ed9ae0f3015178ba0a1cbc0ab7bc25291e074e4885ea232   \n",
       "2  0xb879308228257d4afa241522e5ea9794cd1e333871f75548759707459231ae23   \n",
       "3  0xb879308228257d4afa241522e5ea9794cd1e333871f75548759707459231ae23   \n",
       "4  0x038d0ec5dd8b82398ff493b5577d6a386af4d1949b62a259b9fe2e23826fb60c   \n",
       "\n",
       "   logIndex                            contract_address  \\\n",
       "0        20  0xd0ce094412898760c2a5e37abec39b0e785b45ae   \n",
       "1        42  0x7642e38867860d4512fcce1116e2fb539c5cdd21   \n",
       "2        68  0x80115c708e12edd42e504c1cd52aea96c547c05c   \n",
       "3        70  0xd6723f9ed079abc688e9286cd1df3ffaa79dcd46   \n",
       "4       131  0x4b747b1f9dbae8c55b007817553b49acb360812f   \n",
       "\n",
       "                                       sender  \\\n",
       "0  0xbe7d1fd1f6748bbdefc4fbacafbb11c6fc506d1d   \n",
       "1  0xc02502cfe2ef70581de8b90c5de9db5c38709d6c   \n",
       "2  0x2da10a1e27bf85cedd8ffb1abbe97e53391c0295   \n",
       "3  0x2da10a1e27bf85cedd8ffb1abbe97e53391c0295   \n",
       "4  0xbe7d1fd1f6748bbdefc4fbacafbb11c6fc506d1d   \n",
       "\n",
       "                                     receiver amount0_in  \\\n",
       "0  0xd575491bd9293b6d49a87f3d0b9ce7cd75719039          0   \n",
       "1  0xa269031037b4d5fa3f771c401d19e57def6cb491          0   \n",
       "2  0xd6723f9ed079abc688e9286cd1df3ffaa79dcd46          0   \n",
       "3  0x6f7d4bceedc38c57f37cd99c25738869cb392f0e      26843   \n",
       "4  0x94f7873fed9f891ded6c586f85f4e4338e8d5366          0   \n",
       "\n",
       "             amount1_in amount0_out         amount1_out  \n",
       "0      5456000000000000    10149673                   0  \n",
       "1      7639000000000000    14264810                   0  \n",
       "2        14410000000000       26843                   0  \n",
       "3                     0           0  142491984803162001  \n",
       "4  98370434186366868580    10543618                   0  "
      ]
     },
     "execution_count": 10,
     "metadata": {},
     "output_type": "execute_result"
    }
   ],
   "source": [
    "(swap_lazy_df.limit(5).collect(streaming=True).to_pandas())"
   ]
  },
  {
   "cell_type": "markdown",
   "id": "cfb2ffd9-36ab-4372-9214-62cff4c7f332",
   "metadata": {},
   "source": [
    "## Daily swaps"
   ]
  },
  {
   "cell_type": "code",
   "execution_count": 11,
   "id": "f47aa9bd-fc14-4dc8-b537-d87199d9ef29",
   "metadata": {},
   "outputs": [
    {
     "data": {
      "text/html": [
       "<div>\n",
       "<style scoped>\n",
       "    .dataframe tbody tr th:only-of-type {\n",
       "        vertical-align: middle;\n",
       "    }\n",
       "\n",
       "    .dataframe tbody tr th {\n",
       "        vertical-align: top;\n",
       "    }\n",
       "\n",
       "    .dataframe thead th {\n",
       "        text-align: right;\n",
       "    }\n",
       "</style>\n",
       "<table border=\"1\" class=\"dataframe\">\n",
       "  <thead>\n",
       "    <tr style=\"text-align: right;\">\n",
       "      <th></th>\n",
       "      <th>day</th>\n",
       "      <th>swap_count</th>\n",
       "    </tr>\n",
       "  </thead>\n",
       "  <tbody>\n",
       "    <tr>\n",
       "      <th>28</th>\n",
       "      <td>2023-04-01</td>\n",
       "      <td>102644</td>\n",
       "    </tr>\n",
       "    <tr>\n",
       "      <th>323</th>\n",
       "      <td>2023-04-02</td>\n",
       "      <td>128206</td>\n",
       "    </tr>\n",
       "    <tr>\n",
       "      <th>113</th>\n",
       "      <td>2023-04-03</td>\n",
       "      <td>139163</td>\n",
       "    </tr>\n",
       "    <tr>\n",
       "      <th>118</th>\n",
       "      <td>2023-04-04</td>\n",
       "      <td>118838</td>\n",
       "    </tr>\n",
       "    <tr>\n",
       "      <th>91</th>\n",
       "      <td>2023-04-05</td>\n",
       "      <td>95611</td>\n",
       "    </tr>\n",
       "  </tbody>\n",
       "</table>\n",
       "</div>"
      ],
      "text/plain": [
       "           day  swap_count\n",
       "28  2023-04-01      102644\n",
       "323 2023-04-02      128206\n",
       "113 2023-04-03      139163\n",
       "118 2023-04-04      118838\n",
       "91  2023-04-05       95611"
      ]
     },
     "execution_count": 11,
     "metadata": {},
     "output_type": "execute_result"
    }
   ],
   "source": [
    "day_swaps_df = (\n",
    "    swap_lazy_df\n",
    "    .group_by(\"day\")\n",
    "    .agg(pl.len().alias(\"swap_count\"))\n",
    "    .collect(streaming=True)\n",
    "    .to_pandas()\n",
    "    .sort_values(\"day\")\n",
    ")\n",
    "day_swaps_df.head()"
   ]
  },
  {
   "cell_type": "code",
   "execution_count": 12,
   "id": "8b1be07a-6174-4cea-ad61-a13f700f9c52",
   "metadata": {},
   "outputs": [
    {
     "data": {
      "image/png": "[encoded data removed]"
     },
     "metadata": {},
     "output_type": "display_data"
    }
   ],
   "source": [
    "fig = go.Figure(layout=get_plotly_layout(width=width, height=height))\n",
    "fig.add_trace(go.Scatter(\n",
    "    x=day_swaps_df['day'][:-1], \n",
    "    y=day_swaps_df['swap_count'][:-1], \n",
    "    line=dict(color=colors['blue'], width=3, dash='solid'), mode='lines'))\n",
    "\n",
    "fig.update_layout(xaxis_title=\"Day\", yaxis_title=\"Number of swaps executed per day\")\n",
    "\n",
    "fig.write_image(os.path.join(plots_dir,'swaps-per-day.pdf'))\n",
    "fig.show('png')"
   ]
  },
  {
   "cell_type": "code",
   "execution_count": 13,
   "id": "62dcb5fc-9d13-43ce-9a25-9eb934ecf5b4",
   "metadata": {},
   "outputs": [
    {
     "data": {
      "text/plain": [
       "mean      192009.114206\n",
       "median    193322.000000\n",
       "min            3.000000\n",
       "max       531819.000000\n",
       "std        75935.142567\n",
       "Name: swap_count, dtype: float64"
      ]
     },
     "execution_count": 13,
     "metadata": {},
     "output_type": "execute_result"
    }
   ],
   "source": [
    "day_swaps_df[\"swap_count\"].agg([\"mean\", \"median\", \"min\", \"max\", \"std\"])"
   ]
  },
  {
   "cell_type": "markdown",
   "id": "aa646337-241d-40aa-b4e9-6f4e8a5cf9cc",
   "metadata": {},
   "source": [
    "## Top emitters\n",
    "\n",
    "We can see which pool/contract was involved in the swap by looking at the contract address that emitted the event. Note that we will merge the event data with a mapping between contract addresses and contract names we provide in the file `contract_mapping.csv`."
   ]
  },
  {
   "cell_type": "code",
   "execution_count": 14,
   "id": "0dff2d81-df49-48f5-9f8f-b50f167cd274",
   "metadata": {},
   "outputs": [
    {
     "data": {
      "text/html": [
       "<div>\n",
       "<style scoped>\n",
       "    .dataframe tbody tr th:only-of-type {\n",
       "        vertical-align: middle;\n",
       "    }\n",
       "\n",
       "    .dataframe tbody tr th {\n",
       "        vertical-align: top;\n",
       "    }\n",
       "\n",
       "    .dataframe thead th {\n",
       "        text-align: right;\n",
       "    }\n",
       "</style>\n",
       "<table border=\"1\" class=\"dataframe\">\n",
       "  <thead>\n",
       "    <tr style=\"text-align: right;\">\n",
       "      <th></th>\n",
       "      <th>name</th>\n",
       "      <th>symbol</th>\n",
       "      <th>decimals</th>\n",
       "      <th>l2Address</th>\n",
       "      <th>l1Address</th>\n",
       "    </tr>\n",
       "  </thead>\n",
       "  <tbody>\n",
       "    <tr>\n",
       "      <th>0</th>\n",
       "      <td>Ether</td>\n",
       "      <td>ETH</td>\n",
       "      <td>18</td>\n",
       "      <td>0x000000000000000000000000000000000000800a</td>\n",
       "      <td>0x0000000000000000000000000000000000000000</td>\n",
       "    </tr>\n",
       "    <tr>\n",
       "      <th>1</th>\n",
       "      <td>ChainLink Token</td>\n",
       "      <td>LINK</td>\n",
       "      <td>18</td>\n",
       "      <td>0x082fade8b84b18c441d506e1d3a43a387cc59d20</td>\n",
       "      <td>0x514910771af9ca656af840dff83e8264ecf986ca</td>\n",
       "    </tr>\n",
       "    <tr>\n",
       "      <th>2</th>\n",
       "      <td>Wrapped BTC</td>\n",
       "      <td>WBTC</td>\n",
       "      <td>8</td>\n",
       "      <td>0xbbeb516fb02a01611cbbe0453fe3c580d7281011</td>\n",
       "      <td>0x2260fac5e5542a773aa44fbcfedf7c193bc2c599</td>\n",
       "    </tr>\n",
       "    <tr>\n",
       "      <th>3</th>\n",
       "      <td>Matic Token</td>\n",
       "      <td>MATIC</td>\n",
       "      <td>18</td>\n",
       "      <td>0x770e221ec6f3e8a2e2e168399bb3aa56a63e397d</td>\n",
       "      <td>0x7d1afa7b718fb893db30a3abc0cfc608aacfebb0</td>\n",
       "    </tr>\n",
       "    <tr>\n",
       "      <th>4</th>\n",
       "      <td>Uniswap</td>\n",
       "      <td>UNI</td>\n",
       "      <td>18</td>\n",
       "      <td>0x1c6f53185061d7cc387e481c350ad00c2c876f3e</td>\n",
       "      <td>0x1f9840a85d5af5bf1d1762f925bdaddc4201f984</td>\n",
       "    </tr>\n",
       "  </tbody>\n",
       "</table>\n",
       "</div>"
      ],
      "text/plain": [
       "              name symbol  decimals  \\\n",
       "0            Ether    ETH        18   \n",
       "1  ChainLink Token   LINK        18   \n",
       "2      Wrapped BTC   WBTC         8   \n",
       "3      Matic Token  MATIC        18   \n",
       "4          Uniswap    UNI        18   \n",
       "\n",
       "                                    l2Address  \\\n",
       "0  0x000000000000000000000000000000000000800a   \n",
       "1  0x082fade8b84b18c441d506e1d3a43a387cc59d20   \n",
       "2  0xbbeb516fb02a01611cbbe0453fe3c580d7281011   \n",
       "3  0x770e221ec6f3e8a2e2e168399bb3aa56a63e397d   \n",
       "4  0x1c6f53185061d7cc387e481c350ad00c2c876f3e   \n",
       "\n",
       "                                    l1Address  \n",
       "0  0x0000000000000000000000000000000000000000  \n",
       "1  0x514910771af9ca656af840dff83e8264ecf986ca  \n",
       "2  0x2260fac5e5542a773aa44fbcfedf7c193bc2c599  \n",
       "3  0x7d1afa7b718fb893db30a3abc0cfc608aacfebb0  \n",
       "4  0x1f9840a85d5af5bf1d1762f925bdaddc4201f984  "
      ]
     },
     "execution_count": 14,
     "metadata": {},
     "output_type": "execute_result"
    }
   ],
   "source": [
    "contract_map_file =  os.path.join(data_dir, \"contract_mapping.csv\")\n",
    "contract_map_df = pd.read_csv(contract_map_file)\n",
    "contract_map_df.head()"
   ]
  },
  {
   "cell_type": "code",
   "execution_count": 15,
   "id": "c3ecda48-86af-4d3c-8f46-4d19e1d19a69",
   "metadata": {},
   "outputs": [],
   "source": [
    "hash_emitters_df = (\n",
    "    swap_lazy_df\n",
    "    .group_by(\"contract_address\")\n",
    "    .agg(pl.len().alias(\"swap_count\"))\n",
    "    .collect(streaming=True)\n",
    "    .to_pandas()\n",
    "    .merge(contract_map_df[[\"l2Address\", \"name\", \"symbol\"]], how=\"left\", left_on=\"contract_address\", right_on=\"l2Address\")\n",
    "    .fillna({\"name\":\"Unknown\", \"symbol\":\"Unknown\"})\n",
    "    .drop(columns=[\"l2Address\"])\n",
    "    .sort_values(\"swap_count\", ascending=False)\n",
    ")\n",
    "hash_emitters_df[\"swap_perc\"] = hash_emitters_df[\"swap_count\"]/hash_emitters_df[\"swap_count\"].sum()"
   ]
  },
  {
   "cell_type": "code",
   "execution_count": 16,
   "id": "f781ac72-f90f-4b4c-8840-6431b165ae35",
   "metadata": {},
   "outputs": [
    {
     "data": {
      "text/html": [
       "<div>\n",
       "<style scoped>\n",
       "    .dataframe tbody tr th:only-of-type {\n",
       "        vertical-align: middle;\n",
       "    }\n",
       "\n",
       "    .dataframe tbody tr th {\n",
       "        vertical-align: top;\n",
       "    }\n",
       "\n",
       "    .dataframe thead th {\n",
       "        text-align: right;\n",
       "    }\n",
       "</style>\n",
       "<table border=\"1\" class=\"dataframe\">\n",
       "  <thead>\n",
       "    <tr style=\"text-align: right;\">\n",
       "      <th></th>\n",
       "      <th>contract_address</th>\n",
       "      <th>swap_count</th>\n",
       "      <th>name</th>\n",
       "      <th>symbol</th>\n",
       "      <th>swap_perc</th>\n",
       "    </tr>\n",
       "  </thead>\n",
       "  <tbody>\n",
       "    <tr>\n",
       "      <th>2407</th>\n",
       "      <td>0x80115c708e12edd42e504c1cd52aea96c547c05c</td>\n",
       "      <td>22157818</td>\n",
       "      <td>SyncSwap USDC/WETH Classic LP</td>\n",
       "      <td>USDC/WETH cSLP</td>\n",
       "      <td>0.321448</td>\n",
       "    </tr>\n",
       "    <tr>\n",
       "      <th>429</th>\n",
       "      <td>0xd0ce094412898760c2a5e37abec39b0e785b45ae</td>\n",
       "      <td>5558915</td>\n",
       "      <td>SpaceSwap LP Token</td>\n",
       "      <td>SLP</td>\n",
       "      <td>0.080644</td>\n",
       "    </tr>\n",
       "    <tr>\n",
       "      <th>1674</th>\n",
       "      <td>0xdfaab828f5f515e104baaba4d8d554da9096f0e4</td>\n",
       "      <td>4351012</td>\n",
       "      <td>Volatile Mute LP (USDC/WETH)</td>\n",
       "      <td>vMLP (USDC/WETH)</td>\n",
       "      <td>0.063121</td>\n",
       "    </tr>\n",
       "    <tr>\n",
       "      <th>3149</th>\n",
       "      <td>0xd3d91634cf4c04ad1b76ce2c06f7385a897f54d3</td>\n",
       "      <td>2996984</td>\n",
       "      <td>SyncSwap USDT/WETH Classic LP</td>\n",
       "      <td>USDT/WETH cSLP</td>\n",
       "      <td>0.043478</td>\n",
       "    </tr>\n",
       "    <tr>\n",
       "      <th>1373</th>\n",
       "      <td>0x7642e38867860d4512fcce1116e2fb539c5cdd21</td>\n",
       "      <td>2521252</td>\n",
       "      <td>ZF USDC/WETH LP Token</td>\n",
       "      <td>USDC/WETH ZFLP</td>\n",
       "      <td>0.036576</td>\n",
       "    </tr>\n",
       "    <tr>\n",
       "      <th>4816</th>\n",
       "      <td>0xcd52cbc975fbb802f82a1f92112b1250b5a997df</td>\n",
       "      <td>2328652</td>\n",
       "      <td>VolatileV1 AMM - USDC/WETH</td>\n",
       "      <td>vAMM-USDC/WETH</td>\n",
       "      <td>0.033782</td>\n",
       "    </tr>\n",
       "    <tr>\n",
       "      <th>2682</th>\n",
       "      <td>0x2c0737aaf530714067396131ee9be9cee4cf09a0</td>\n",
       "      <td>2290087</td>\n",
       "      <td>Stable Mute LP (USDC/WETH)</td>\n",
       "      <td>sMLP (USDC/WETH)</td>\n",
       "      <td>0.033223</td>\n",
       "    </tr>\n",
       "    <tr>\n",
       "      <th>1449</th>\n",
       "      <td>0x0e595bfcafb552f83e25d24e8a383f88c1ab48a4</td>\n",
       "      <td>2228348</td>\n",
       "      <td>SyncSwap USDC/USDT Stable LP</td>\n",
       "      <td>USDC/USDT sSLP</td>\n",
       "      <td>0.032327</td>\n",
       "    </tr>\n",
       "    <tr>\n",
       "      <th>985</th>\n",
       "      <td>0x9d2811b85c1d736427722817b69e4d1e98016bb0</td>\n",
       "      <td>969691</td>\n",
       "      <td>Stable Mute LP (USDC/USDT)</td>\n",
       "      <td>sMLP (USDC/USDT)</td>\n",
       "      <td>0.014068</td>\n",
       "    </tr>\n",
       "    <tr>\n",
       "      <th>4606</th>\n",
       "      <td>0xd33a17c883d5aa79470cd2522abb213dc4017e01</td>\n",
       "      <td>821899</td>\n",
       "      <td>ZF ZF/WETH LP Token</td>\n",
       "      <td>ZF/WETH ZFLP</td>\n",
       "      <td>0.011923</td>\n",
       "    </tr>\n",
       "  </tbody>\n",
       "</table>\n",
       "</div>"
      ],
      "text/plain": [
       "                                contract_address  swap_count  \\\n",
       "2407  0x80115c708e12edd42e504c1cd52aea96c547c05c    22157818   \n",
       "429   0xd0ce094412898760c2a5e37abec39b0e785b45ae     5558915   \n",
       "1674  0xdfaab828f5f515e104baaba4d8d554da9096f0e4     4351012   \n",
       "3149  0xd3d91634cf4c04ad1b76ce2c06f7385a897f54d3     2996984   \n",
       "1373  0x7642e38867860d4512fcce1116e2fb539c5cdd21     2521252   \n",
       "4816  0xcd52cbc975fbb802f82a1f92112b1250b5a997df     2328652   \n",
       "2682  0x2c0737aaf530714067396131ee9be9cee4cf09a0     2290087   \n",
       "1449  0x0e595bfcafb552f83e25d24e8a383f88c1ab48a4     2228348   \n",
       "985   0x9d2811b85c1d736427722817b69e4d1e98016bb0      969691   \n",
       "4606  0xd33a17c883d5aa79470cd2522abb213dc4017e01      821899   \n",
       "\n",
       "                               name            symbol  swap_perc  \n",
       "2407  SyncSwap USDC/WETH Classic LP    USDC/WETH cSLP   0.321448  \n",
       "429              SpaceSwap LP Token               SLP   0.080644  \n",
       "1674   Volatile Mute LP (USDC/WETH)  vMLP (USDC/WETH)   0.063121  \n",
       "3149  SyncSwap USDT/WETH Classic LP    USDT/WETH cSLP   0.043478  \n",
       "1373          ZF USDC/WETH LP Token    USDC/WETH ZFLP   0.036576  \n",
       "4816     VolatileV1 AMM - USDC/WETH    vAMM-USDC/WETH   0.033782  \n",
       "2682     Stable Mute LP (USDC/WETH)  sMLP (USDC/WETH)   0.033223  \n",
       "1449   SyncSwap USDC/USDT Stable LP    USDC/USDT sSLP   0.032327  \n",
       "985      Stable Mute LP (USDC/USDT)  sMLP (USDC/USDT)   0.014068  \n",
       "4606            ZF ZF/WETH LP Token      ZF/WETH ZFLP   0.011923  "
      ]
     },
     "execution_count": 16,
     "metadata": {},
     "output_type": "execute_result"
    }
   ],
   "source": [
    "hash_emitters_df.head(10)"
   ]
  },
  {
   "cell_type": "code",
   "execution_count": 17,
   "id": "85b8494e-0816-4f83-b06b-904cff745c60",
   "metadata": {},
   "outputs": [],
   "source": [
    "emitters_df = (\n",
    "    hash_emitters_df\n",
    "    .groupby([\"name\", \"symbol\"])\n",
    "    [\"swap_count\"]\n",
    "    .sum()\n",
    "    .reset_index()\n",
    "    .sort_values(\"swap_count\", ascending=False)\n",
    ")\n",
    "emitters_df[\"swap_perc\"] = emitters_df[\"swap_count\"]/emitters_df[\"swap_count\"].sum()"
   ]
  },
  {
   "cell_type": "code",
   "execution_count": 18,
   "id": "6181d663-88af-4f63-a60d-d58a4ff6fa2f",
   "metadata": {},
   "outputs": [
    {
     "data": {
      "text/plain": [
       "198"
      ]
     },
     "execution_count": 18,
     "metadata": {},
     "output_type": "execute_result"
    }
   ],
   "source": [
    "sum(hash_emitters_df[\"name\"]==\"Unknown\")"
   ]
  },
  {
   "cell_type": "code",
   "execution_count": 19,
   "id": "983b2f4f-774f-4942-a7f2-747202df3d4b",
   "metadata": {},
   "outputs": [
    {
     "data": {
      "text/plain": [
       "0.0015579140915896635"
      ]
     },
     "execution_count": 19,
     "metadata": {},
     "output_type": "execute_result"
    }
   ],
   "source": [
    "float(emitters_df[emitters_df[\"name\"]==\"Unknown\"][\"swap_count\"].sum()/emitters_df[\"swap_count\"].sum())"
   ]
  },
  {
   "cell_type": "code",
   "execution_count": 20,
   "id": "6fd1da7c-42fc-4d82-83b2-0c0abfe6d2fd",
   "metadata": {},
   "outputs": [
    {
     "data": {
      "image/png": "[encoded data removed]"
     },
     "metadata": {},
     "output_type": "display_data"
    }
   ],
   "source": [
    "top_emitters = emitters_df[emitters_df[\"name\"]!=\"Unknown\"].iloc[:15]\n",
    "\n",
    "fig = go.Figure(layout=get_plotly_layout(width=width, height=height))\n",
    "fig.add_trace(\n",
    "    go.Bar(y=top_emitters['name'], \n",
    "           x=top_emitters['swap_perc'],\n",
    "           text=top_emitters['swap_perc'], \n",
    "           texttemplate='%{text:.2%}', \n",
    "           marker_color=colors['blue'],\n",
    "           orientation='h'))\n",
    "fig.update_layout(yaxis_title=\"Top-15 swap emitters\",xaxis_title=\"Percentage over all swap events\")\n",
    "fig.write_image(os.path.join(plots_dir,'top-swap-emitters.pdf'))\n",
    "fig.show('png')"
   ]
  },
  {
   "cell_type": "markdown",
   "id": "d17ae754-5f68-4f39-b4e0-bc53ead17764",
   "metadata": {},
   "source": [
    "## Top swappers (i.e. receivers)"
   ]
  },
  {
   "cell_type": "code",
   "execution_count": 21,
   "id": "77afac70-d6b9-419d-af46-4aebd6d57c70",
   "metadata": {},
   "outputs": [
    {
     "data": {
      "text/html": [
       "<div>\n",
       "<style scoped>\n",
       "    .dataframe tbody tr th:only-of-type {\n",
       "        vertical-align: middle;\n",
       "    }\n",
       "\n",
       "    .dataframe tbody tr th {\n",
       "        vertical-align: top;\n",
       "    }\n",
       "\n",
       "    .dataframe thead th {\n",
       "        text-align: right;\n",
       "    }\n",
       "</style>\n",
       "<table border=\"1\" class=\"dataframe\">\n",
       "  <thead>\n",
       "    <tr style=\"text-align: right;\">\n",
       "      <th></th>\n",
       "      <th>receiver</th>\n",
       "      <th>swap_count</th>\n",
       "      <th>swap_perc</th>\n",
       "    </tr>\n",
       "  </thead>\n",
       "  <tbody>\n",
       "    <tr>\n",
       "      <th>1931966</th>\n",
       "      <td>0x8b791913eb07c32779a16750e3868aa8495f5964</td>\n",
       "      <td>2866796</td>\n",
       "      <td>0.041589</td>\n",
       "    </tr>\n",
       "    <tr>\n",
       "      <th>1501654</th>\n",
       "      <td>0xbe7d1fd1f6748bbdefc4fbacafbb11c6fc506d1d</td>\n",
       "      <td>2564423</td>\n",
       "      <td>0.037203</td>\n",
       "    </tr>\n",
       "    <tr>\n",
       "      <th>2703046</th>\n",
       "      <td>0x4bba932e9792a2b917d47830c93a9bc79320e4f7</td>\n",
       "      <td>1420258</td>\n",
       "      <td>0.020604</td>\n",
       "    </tr>\n",
       "    <tr>\n",
       "      <th>2699392</th>\n",
       "      <td>0x18381c0f738146fb694de18d1106bde2be040fa4</td>\n",
       "      <td>1315372</td>\n",
       "      <td>0.019082</td>\n",
       "    </tr>\n",
       "    <tr>\n",
       "      <th>2422578</th>\n",
       "      <td>0xa9305c3c14757bae2e73ef7f66fe241f5f6bf347</td>\n",
       "      <td>1064263</td>\n",
       "      <td>0.015439</td>\n",
       "    </tr>\n",
       "  </tbody>\n",
       "</table>\n",
       "</div>"
      ],
      "text/plain": [
       "                                           receiver  swap_count  swap_perc\n",
       "1931966  0x8b791913eb07c32779a16750e3868aa8495f5964     2866796   0.041589\n",
       "1501654  0xbe7d1fd1f6748bbdefc4fbacafbb11c6fc506d1d     2564423   0.037203\n",
       "2703046  0x4bba932e9792a2b917d47830c93a9bc79320e4f7     1420258   0.020604\n",
       "2699392  0x18381c0f738146fb694de18d1106bde2be040fa4     1315372   0.019082\n",
       "2422578  0xa9305c3c14757bae2e73ef7f66fe241f5f6bf347     1064263   0.015439"
      ]
     },
     "execution_count": 21,
     "metadata": {},
     "output_type": "execute_result"
    }
   ],
   "source": [
    "swappers_df = (\n",
    "    swap_lazy_df\n",
    "    .group_by(\"receiver\")\n",
    "    .agg(pl.len().alias(\"swap_count\"))\n",
    "    .collect(streaming=True)\n",
    "    .to_pandas()\n",
    "    .sort_values(\"swap_count\", ascending=False)\n",
    ")\n",
    "swappers_df[\"swap_perc\"] = swappers_df[\"swap_count\"]/swappers_df[\"swap_count\"].sum()\n",
    "swappers_df.head()"
   ]
  },
  {
   "cell_type": "code",
   "execution_count": 22,
   "id": "379745a1-4e79-4ad0-a515-b0948ea9cf8b",
   "metadata": {},
   "outputs": [
    {
     "data": {
      "text/plain": [
       "3822445"
      ]
     },
     "execution_count": 22,
     "metadata": {},
     "output_type": "execute_result"
    }
   ],
   "source": [
    "len(swappers_df)"
   ]
  },
  {
   "cell_type": "code",
   "execution_count": 23,
   "id": "304ff4ff-3fb6-4edf-8efe-5b21dad5499c",
   "metadata": {},
   "outputs": [
    {
     "data": {
      "image/png": "[encoded data removed]"
     },
     "metadata": {},
     "output_type": "display_data"
    }
   ],
   "source": [
    "fig = go.Figure(layout=get_plotly_layout(width=width, height=height*0.5))\n",
    "fig.add_trace(go.Box(x=swappers_df['swap_count'], boxmean=True, name=\"\"))\n",
    "fig.update_layout(xaxis_title=\"Total number of swaps made - box plot & average\")\n",
    "fig.update_xaxes(type=\"log\")\n",
    "\n",
    "fig.write_image(os.path.join(plots_dir,'swaps-by-swapper-dist.pdf'))\n",
    "fig.show('png')"
   ]
  },
  {
   "cell_type": "code",
   "execution_count": 30,
   "id": "c8d90155-c8eb-40a4-b18c-099d4db84ec3",
   "metadata": {},
   "outputs": [
    {
     "data": {
      "text/plain": [
       "0.25     3.0\n",
       "0.50     7.0\n",
       "0.75    15.0\n",
       "0.95    42.0\n",
       "Name: swap_count, dtype: float64"
      ]
     },
     "execution_count": 30,
     "metadata": {},
     "output_type": "execute_result"
    }
   ],
   "source": [
    "swappers_df['swap_count'].quantile([.25, .5, .75, 0.95])"
   ]
  },
  {
   "cell_type": "markdown",
   "id": "b2f6bb63-aee8-4a6a-95b9-7cb1747ba44f",
   "metadata": {},
   "source": [
    "## Top swapping protocols (i.e. senders)"
   ]
  },
  {
   "cell_type": "code",
   "execution_count": 24,
   "id": "2f007707-0f2c-48c3-84f2-cc0f720bc55b",
   "metadata": {},
   "outputs": [
    {
     "data": {
      "text/html": [
       "<div>\n",
       "<style scoped>\n",
       "    .dataframe tbody tr th:only-of-type {\n",
       "        vertical-align: middle;\n",
       "    }\n",
       "\n",
       "    .dataframe tbody tr th {\n",
       "        vertical-align: top;\n",
       "    }\n",
       "\n",
       "    .dataframe thead th {\n",
       "        text-align: right;\n",
       "    }\n",
       "</style>\n",
       "<table border=\"1\" class=\"dataframe\">\n",
       "  <thead>\n",
       "    <tr style=\"text-align: right;\">\n",
       "      <th></th>\n",
       "      <th>sender</th>\n",
       "      <th>swap_count</th>\n",
       "      <th>swap_perc</th>\n",
       "    </tr>\n",
       "  </thead>\n",
       "  <tbody>\n",
       "    <tr>\n",
       "      <th>94</th>\n",
       "      <td>0x2da10a1e27bf85cedd8ffb1abbe97e53391c0295</td>\n",
       "      <td>32442037</td>\n",
       "      <td>0.470643</td>\n",
       "    </tr>\n",
       "    <tr>\n",
       "      <th>180</th>\n",
       "      <td>0x8b791913eb07c32779a16750e3868aa8495f5964</td>\n",
       "      <td>9055905</td>\n",
       "      <td>0.131376</td>\n",
       "    </tr>\n",
       "    <tr>\n",
       "      <th>122</th>\n",
       "      <td>0xbe7d1fd1f6748bbdefc4fbacafbb11c6fc506d1d</td>\n",
       "      <td>6728082</td>\n",
       "      <td>0.097606</td>\n",
       "    </tr>\n",
       "    <tr>\n",
       "      <th>319</th>\n",
       "      <td>0x9b5def958d0f3b6955cbea4d5b7809b2fb26b059</td>\n",
       "      <td>4736592</td>\n",
       "      <td>0.068715</td>\n",
       "    </tr>\n",
       "    <tr>\n",
       "      <th>268</th>\n",
       "      <td>0x18381c0f738146fb694de18d1106bde2be040fa4</td>\n",
       "      <td>3582864</td>\n",
       "      <td>0.051977</td>\n",
       "    </tr>\n",
       "    <tr>\n",
       "      <th>29</th>\n",
       "      <td>0xd999e16e68476bc749a28fc14a0c3b6d7073f50c</td>\n",
       "      <td>1791260</td>\n",
       "      <td>0.025986</td>\n",
       "    </tr>\n",
       "    <tr>\n",
       "      <th>137</th>\n",
       "      <td>0xde759b830e1bf7116b6189f98b5c3a4f5fb8b59b</td>\n",
       "      <td>1173605</td>\n",
       "      <td>0.017026</td>\n",
       "    </tr>\n",
       "    <tr>\n",
       "      <th>150</th>\n",
       "      <td>0x6c31035d62541ceba2ac587ea09891d1645d6d07</td>\n",
       "      <td>857422</td>\n",
       "      <td>0.012439</td>\n",
       "    </tr>\n",
       "    <tr>\n",
       "      <th>300</th>\n",
       "      <td>0x498f7bb59c61307de7dea005877220e4406470e9</td>\n",
       "      <td>632189</td>\n",
       "      <td>0.009171</td>\n",
       "    </tr>\n",
       "    <tr>\n",
       "      <th>363</th>\n",
       "      <td>0x82b6960fd11b11e3bbf62bb5aeb5cffd63b468de</td>\n",
       "      <td>515912</td>\n",
       "      <td>0.007484</td>\n",
       "    </tr>\n",
       "  </tbody>\n",
       "</table>\n",
       "</div>"
      ],
      "text/plain": [
       "                                         sender  swap_count  swap_perc\n",
       "94   0x2da10a1e27bf85cedd8ffb1abbe97e53391c0295    32442037   0.470643\n",
       "180  0x8b791913eb07c32779a16750e3868aa8495f5964     9055905   0.131376\n",
       "122  0xbe7d1fd1f6748bbdefc4fbacafbb11c6fc506d1d     6728082   0.097606\n",
       "319  0x9b5def958d0f3b6955cbea4d5b7809b2fb26b059     4736592   0.068715\n",
       "268  0x18381c0f738146fb694de18d1106bde2be040fa4     3582864   0.051977\n",
       "29   0xd999e16e68476bc749a28fc14a0c3b6d7073f50c     1791260   0.025986\n",
       "137  0xde759b830e1bf7116b6189f98b5c3a4f5fb8b59b     1173605   0.017026\n",
       "150  0x6c31035d62541ceba2ac587ea09891d1645d6d07      857422   0.012439\n",
       "300  0x498f7bb59c61307de7dea005877220e4406470e9      632189   0.009171\n",
       "363  0x82b6960fd11b11e3bbf62bb5aeb5cffd63b468de      515912   0.007484"
      ]
     },
     "execution_count": 24,
     "metadata": {},
     "output_type": "execute_result"
    }
   ],
   "source": [
    "sender_df = (\n",
    "    swap_lazy_df\n",
    "    .group_by(\"sender\")\n",
    "    .agg(pl.len().alias(\"swap_count\"))\n",
    "    .collect(streaming=True)\n",
    "    .to_pandas()\n",
    "    .sort_values(\"swap_count\", ascending=False)\n",
    ")\n",
    "sender_df[\"swap_perc\"] = sender_df[\"swap_count\"]/sender_df[\"swap_count\"].sum()\n",
    "sender_df.head(10)"
   ]
  },
  {
   "cell_type": "code",
   "execution_count": 25,
   "id": "3b43c74f-ab8d-4ec7-884f-d829b58b1769",
   "metadata": {},
   "outputs": [
    {
     "data": {
      "text/plain": [
       "452"
      ]
     },
     "execution_count": 25,
     "metadata": {},
     "output_type": "execute_result"
    }
   ],
   "source": [
    "len(sender_df)"
   ]
  },
  {
   "cell_type": "code",
   "execution_count": 26,
   "id": "65ebdcea-962d-42a5-92ba-3a88589162fa",
   "metadata": {},
   "outputs": [
    {
     "data": {
      "text/html": [
       "<div>\n",
       "<style scoped>\n",
       "    .dataframe tbody tr th:only-of-type {\n",
       "        vertical-align: middle;\n",
       "    }\n",
       "\n",
       "    .dataframe tbody tr th {\n",
       "        vertical-align: top;\n",
       "    }\n",
       "\n",
       "    .dataframe thead th {\n",
       "        text-align: right;\n",
       "    }\n",
       "</style>\n",
       "<table border=\"1\" class=\"dataframe\">\n",
       "  <thead>\n",
       "    <tr style=\"text-align: right;\">\n",
       "      <th></th>\n",
       "      <th>sender</th>\n",
       "      <th>swap_count</th>\n",
       "      <th>swap_perc</th>\n",
       "    </tr>\n",
       "  </thead>\n",
       "  <tbody>\n",
       "    <tr>\n",
       "      <th>12</th>\n",
       "      <td>0x61d846c15475d45d6e5d5e18edf2dc54ff864618</td>\n",
       "      <td>1</td>\n",
       "      <td>1.450720e-08</td>\n",
       "    </tr>\n",
       "    <tr>\n",
       "      <th>92</th>\n",
       "      <td>0x73f96cfc901c5adeaa33a33fdebcebbcbb773b3c</td>\n",
       "      <td>1</td>\n",
       "      <td>1.450720e-08</td>\n",
       "    </tr>\n",
       "    <tr>\n",
       "      <th>286</th>\n",
       "      <td>0x3dc0d6ae67bdf685e491946dab0d2fb1a06c6c6a</td>\n",
       "      <td>1</td>\n",
       "      <td>1.450720e-08</td>\n",
       "    </tr>\n",
       "    <tr>\n",
       "      <th>59</th>\n",
       "      <td>0xaa39a07722f5933b2c99da08f09511a65365b193</td>\n",
       "      <td>1</td>\n",
       "      <td>1.450720e-08</td>\n",
       "    </tr>\n",
       "    <tr>\n",
       "      <th>203</th>\n",
       "      <td>0x2473e0965a111b2babd6c2004165a32b53ca756e</td>\n",
       "      <td>1</td>\n",
       "      <td>1.450720e-08</td>\n",
       "    </tr>\n",
       "    <tr>\n",
       "      <th>383</th>\n",
       "      <td>0x1b5c9b6dc4d8baca3a4492b6ec9d5f09c0c813fe</td>\n",
       "      <td>1</td>\n",
       "      <td>1.450720e-08</td>\n",
       "    </tr>\n",
       "    <tr>\n",
       "      <th>87</th>\n",
       "      <td>0xd9318ed5830a43038c000220777ca72b503c7752</td>\n",
       "      <td>1</td>\n",
       "      <td>1.450720e-08</td>\n",
       "    </tr>\n",
       "    <tr>\n",
       "      <th>398</th>\n",
       "      <td>0xa5af8dc3e725626359ef5918253141f19147a04e</td>\n",
       "      <td>1</td>\n",
       "      <td>1.450720e-08</td>\n",
       "    </tr>\n",
       "    <tr>\n",
       "      <th>309</th>\n",
       "      <td>0x13f1a70b3998d4451d5cd6ae5aaaf882472d962a</td>\n",
       "      <td>1</td>\n",
       "      <td>1.450720e-08</td>\n",
       "    </tr>\n",
       "    <tr>\n",
       "      <th>321</th>\n",
       "      <td>0x41ed56dd4736effbf3302ae301d70294ab8a23d6</td>\n",
       "      <td>1</td>\n",
       "      <td>1.450720e-08</td>\n",
       "    </tr>\n",
       "  </tbody>\n",
       "</table>\n",
       "</div>"
      ],
      "text/plain": [
       "                                         sender  swap_count     swap_perc\n",
       "12   0x61d846c15475d45d6e5d5e18edf2dc54ff864618           1  1.450720e-08\n",
       "92   0x73f96cfc901c5adeaa33a33fdebcebbcbb773b3c           1  1.450720e-08\n",
       "286  0x3dc0d6ae67bdf685e491946dab0d2fb1a06c6c6a           1  1.450720e-08\n",
       "59   0xaa39a07722f5933b2c99da08f09511a65365b193           1  1.450720e-08\n",
       "203  0x2473e0965a111b2babd6c2004165a32b53ca756e           1  1.450720e-08\n",
       "383  0x1b5c9b6dc4d8baca3a4492b6ec9d5f09c0c813fe           1  1.450720e-08\n",
       "87   0xd9318ed5830a43038c000220777ca72b503c7752           1  1.450720e-08\n",
       "398  0xa5af8dc3e725626359ef5918253141f19147a04e           1  1.450720e-08\n",
       "309  0x13f1a70b3998d4451d5cd6ae5aaaf882472d962a           1  1.450720e-08\n",
       "321  0x41ed56dd4736effbf3302ae301d70294ab8a23d6           1  1.450720e-08"
      ]
     },
     "execution_count": 26,
     "metadata": {},
     "output_type": "execute_result"
    }
   ],
   "source": [
    "sender_df.tail(10)"
   ]
  },
  {
   "cell_type": "markdown",
   "id": "adf8e77e-fcd6-4105-b7e5-c336160121bc",
   "metadata": {},
   "source": [
    "## Swap events during a gas usage peak\n",
    "\n",
    "In a previous [notebook](./02-data-exploration-fees.ipynb), we noticed three spikes in gas usage and looked into the contracts that were generating those spikes. In May 2023, the address receiving the most gas units was the SyncSwap router contract. In this section, we will look into this contract and check which tokens were the most traded during this time."
   ]
  },
  {
   "cell_type": "code",
   "execution_count": 27,
   "id": "78b7d494-f6ef-497e-99f6-cdcf56f0c438",
   "metadata": {},
   "outputs": [],
   "source": [
    "may_2023_hash_emitters_df = (\n",
    "    swap_lazy_df\n",
    "    .filter(pl.col('day').is_between(datetime(2023, 5, 1), datetime(2023, 5, 30)))\n",
    "    .group_by(\"contract_address\")\n",
    "    .agg(pl.len().alias(\"swap_count\"))\n",
    "    .collect(streaming=True)\n",
    "    .to_pandas()\n",
    "    .merge(contract_map_df[[\"l2Address\", \"name\", \"symbol\"]], how=\"left\", left_on=\"contract_address\", right_on=\"l2Address\")\n",
    "    .fillna({\"name\":\"Unknown\", \"symbol\":\"Unknown\"})\n",
    "    .drop(columns=[\"l2Address\"])\n",
    "    .sort_values(\"swap_count\", ascending=False)\n",
    ")"
   ]
  },
  {
   "cell_type": "code",
   "execution_count": 28,
   "id": "695a70dc-552b-4e9e-a2d4-bbf72959e486",
   "metadata": {},
   "outputs": [
    {
     "data": {
      "text/html": [
       "<div>\n",
       "<style scoped>\n",
       "    .dataframe tbody tr th:only-of-type {\n",
       "        vertical-align: middle;\n",
       "    }\n",
       "\n",
       "    .dataframe tbody tr th {\n",
       "        vertical-align: top;\n",
       "    }\n",
       "\n",
       "    .dataframe thead th {\n",
       "        text-align: right;\n",
       "    }\n",
       "</style>\n",
       "<table border=\"1\" class=\"dataframe\">\n",
       "  <thead>\n",
       "    <tr style=\"text-align: right;\">\n",
       "      <th></th>\n",
       "      <th>name</th>\n",
       "      <th>symbol</th>\n",
       "      <th>swap_count</th>\n",
       "      <th>swap_perc</th>\n",
       "    </tr>\n",
       "  </thead>\n",
       "  <tbody>\n",
       "    <tr>\n",
       "      <th>155</th>\n",
       "      <td>SyncSwap USDC/WETH Classic LP</td>\n",
       "      <td>USDC/WETH cSLP</td>\n",
       "      <td>1564536</td>\n",
       "      <td>0.478647</td>\n",
       "    </tr>\n",
       "    <tr>\n",
       "      <th>12</th>\n",
       "      <td>SpaceSwap LP Token</td>\n",
       "      <td>SLP</td>\n",
       "      <td>297142</td>\n",
       "      <td>0.090906</td>\n",
       "    </tr>\n",
       "    <tr>\n",
       "      <th>288</th>\n",
       "      <td>SyncSwap ZAT/WETH Classic LP</td>\n",
       "      <td>ZAT/WETH cSLP</td>\n",
       "      <td>264802</td>\n",
       "      <td>0.081012</td>\n",
       "    </tr>\n",
       "    <tr>\n",
       "      <th>337</th>\n",
       "      <td>Volatile Mute LP (USDC/WETH)</td>\n",
       "      <td>vMLP (USDC/WETH)</td>\n",
       "      <td>254493</td>\n",
       "      <td>0.077858</td>\n",
       "    </tr>\n",
       "    <tr>\n",
       "      <th>157</th>\n",
       "      <td>SyncSwap USDC/ZAT Classic LP</td>\n",
       "      <td>USDC/ZAT cSLP</td>\n",
       "      <td>97034</td>\n",
       "      <td>0.029686</td>\n",
       "    </tr>\n",
       "    <tr>\n",
       "      <th>200</th>\n",
       "      <td>SyncSwap WETH/Cheems Classic LP</td>\n",
       "      <td>WETH/Cheems cSLP</td>\n",
       "      <td>93984</td>\n",
       "      <td>0.028753</td>\n",
       "    </tr>\n",
       "    <tr>\n",
       "      <th>412</th>\n",
       "      <td>VolatileV1 AMM - USDC/WETH</td>\n",
       "      <td>vAMM-USDC/WETH</td>\n",
       "      <td>78122</td>\n",
       "      <td>0.023900</td>\n",
       "    </tr>\n",
       "    <tr>\n",
       "      <th>20</th>\n",
       "      <td>Stable Mute LP (USDC/WETH)</td>\n",
       "      <td>sMLP (USDC/WETH)</td>\n",
       "      <td>61659</td>\n",
       "      <td>0.018864</td>\n",
       "    </tr>\n",
       "    <tr>\n",
       "      <th>62</th>\n",
       "      <td>SyncSwap BUSD/USDC Stable LP</td>\n",
       "      <td>BUSD/USDC sSLP</td>\n",
       "      <td>57986</td>\n",
       "      <td>0.017740</td>\n",
       "    </tr>\n",
       "    <tr>\n",
       "      <th>205</th>\n",
       "      <td>SyncSwap WETH/DOGERA Classic LP</td>\n",
       "      <td>WETH/DOGERA cSLP</td>\n",
       "      <td>56230</td>\n",
       "      <td>0.017203</td>\n",
       "    </tr>\n",
       "  </tbody>\n",
       "</table>\n",
       "</div>"
      ],
      "text/plain": [
       "                                name            symbol  swap_count  swap_perc\n",
       "155    SyncSwap USDC/WETH Classic LP    USDC/WETH cSLP     1564536   0.478647\n",
       "12                SpaceSwap LP Token               SLP      297142   0.090906\n",
       "288     SyncSwap ZAT/WETH Classic LP     ZAT/WETH cSLP      264802   0.081012\n",
       "337     Volatile Mute LP (USDC/WETH)  vMLP (USDC/WETH)      254493   0.077858\n",
       "157     SyncSwap USDC/ZAT Classic LP     USDC/ZAT cSLP       97034   0.029686\n",
       "200  SyncSwap WETH/Cheems Classic LP  WETH/Cheems cSLP       93984   0.028753\n",
       "412       VolatileV1 AMM - USDC/WETH    vAMM-USDC/WETH       78122   0.023900\n",
       "20        Stable Mute LP (USDC/WETH)  sMLP (USDC/WETH)       61659   0.018864\n",
       "62      SyncSwap BUSD/USDC Stable LP    BUSD/USDC sSLP       57986   0.017740\n",
       "205  SyncSwap WETH/DOGERA Classic LP  WETH/DOGERA cSLP       56230   0.017203"
      ]
     },
     "execution_count": 28,
     "metadata": {},
     "output_type": "execute_result"
    }
   ],
   "source": [
    "may_2023_df = (\n",
    "    may_2023_hash_emitters_df\n",
    "    .groupby([\"name\", \"symbol\"])\n",
    "    [\"swap_count\"]\n",
    "    .sum()\n",
    "    .reset_index()\n",
    "    .sort_values(\"swap_count\", ascending=False)\n",
    ")\n",
    "may_2023_df[\"swap_perc\"] = may_2023_df[\"swap_count\"]/may_2023_df[\"swap_count\"].sum()\n",
    "may_2023_df.head(10)"
   ]
  }
 ],
 "metadata": {
  "kernelspec": {
   "display_name": "Python 3 (ipykernel)",
   "language": "python",
   "name": "python3"
  },
  "language_info": {
   "codemirror_mode": {
    "name": "ipython",
    "version": 3
   },
   "file_extension": ".py",
   "mimetype": "text/x-python",
   "name": "python",
   "nbconvert_exporter": "python",
   "pygments_lexer": "ipython3",
   "version": "3.9.19"
  }
 },
 "nbformat": 4,
 "nbformat_minor": 5
}
